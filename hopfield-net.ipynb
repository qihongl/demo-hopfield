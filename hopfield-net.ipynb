{
 "cells": [
  {
   "cell_type": "code",
   "execution_count": 1,
   "metadata": {},
   "outputs": [],
   "source": [
    "'''a demo of the hopfield network'''\n",
    "import numpy as np\n",
    "import matplotlib.pyplot as plt\n",
    "np.random.seed(0)"
   ]
  },
  {
   "cell_type": "code",
   "execution_count": 2,
   "metadata": {},
   "outputs": [],
   "source": [
    "def sigmoid(x):\n",
    "    return 1/(1+np.exp(-x))\n",
    "\n",
    "\n",
    "def show_letter(pattern):\n",
    "    f, ax = plt.subplots(1, 1, figsize=(4, 4))\n",
    "    ax.imshow(pattern.reshape(side_len, side_len), cmap='bone_r')\n",
    "    ax.set_axis_off()\n",
    "    f.tight_layout()\n",
    "\n",
    "\n",
    "def pattern_complete(weights, X, n_iter=10, soft=True):\n",
    "    Xs = [None] * n_iter\n",
    "    for i in range(n_iter):\n",
    "        X = np.dot(X, weights)\n",
    "        if soft:\n",
    "            X = sigmoid(X)\n",
    "        else:\n",
    "            X[x < 0] = -1\n",
    "            X[x >= 0] = 1\n",
    "        Xs[i] = X\n",
    "    return Xs\n",
    "\n",
    "\n",
    "def add_noise(x_, noise_level=.2):\n",
    "    noise = np.random.choice(\n",
    "        [1, -1], size=len(x_), p=[1-noise_level, noise_level])\n",
    "    return x_ * noise"
   ]
  },
  {
   "cell_type": "code",
   "execution_count": 3,
   "metadata": {},
   "outputs": [
    {
     "data": {
      "image/png": "[encoded data removed]",
      "text/plain": [
       "<Figure size 288x288 with 1 Axes>"
      ]
     },
     "metadata": {
      "needs_background": "light"
     },
     "output_type": "display_data"
    },
    {
     "data": {
      "image/png": "[encoded data removed]",
      "text/plain": [
       "<Figure size 288x288 with 1 Axes>"
      ]
     },
     "metadata": {
      "needs_background": "light"
     },
     "output_type": "display_data"
    }
   ],
   "source": [
    "# make some patterns\n",
    "side_len = 5\n",
    "A = np.array([\n",
    "    [-1, 1, 1, 1, -1],\n",
    "    [1, -1, - 1, -1, 1],\n",
    "    [1, 1, 1, 1, 1],\n",
    "    [1, -1, - 1, -1, 1],\n",
    "    [1, -1, - 1, -1, 1],\n",
    "]).reshape(-1)\n",
    "\n",
    "Z = np.array([\n",
    "    [1, 1, 1, 1, 1],\n",
    "    [-1, -1, -1, 1, -1],\n",
    "    [-1, -1, 1, -1, - 1],\n",
    "    [-1, 1, -1, -1, -1],\n",
    "    [1, 1, 1, 1, 1],\n",
    "]).reshape(-1)\n",
    "\n",
    "# show the patterns\n",
    "show_letter(A)\n",
    "show_letter(Z)"
   ]
  },
  {
   "cell_type": "code",
   "execution_count": 4,
   "metadata": {},
   "outputs": [],
   "source": [
    "# memorize the patterns\n",
    "X = np.array([A, Z])\n",
    "m, n_units = np.shape(X)\n",
    "weights = np.zeros((n_units, n_units))\n",
    "for x in X:\n",
    "    weights += np.outer(x, x) / m\n",
    "weights[np.diag_indices(n_units)] = 0\n",
    "\n",
    "# show the test pattern again\n",
    "x_test = A\n",
    "# show_letter(x_test)\n",
    "\n",
    "# add noise\n",
    "noise_level = .3\n",
    "x_test = add_noise(x_test, noise_level=noise_level)\n",
    "# show_letter(x_test)"
   ]
  },
  {
   "cell_type": "code",
   "execution_count": 5,
   "metadata": {},
   "outputs": [
    {
     "data": {
      "image/png": "[encoded data removed]",
      "text/plain": [
       "<Figure size 864x216 with 4 Axes>"
      ]
     },
     "metadata": {
      "needs_background": "light"
     },
     "output_type": "display_data"
    }
   ],
   "source": [
    "# pattern completion\n",
    "n_iter = 3\n",
    "x_hats = pattern_complete(weights, x_test, n_iter=n_iter)\n",
    "# show_letter(x_hats[-1])\n",
    "\n",
    "f, axes = plt.subplots(1, n_iter+1, figsize=((n_iter+1)*3, 3))\n",
    "x_hats.insert(0, x_test)\n",
    "for i in range(n_iter+1):\n",
    "    axes[i].imshow(x_hats[i].reshape(side_len, side_len), cmap='bone_r')\n",
    "    axes[i].set_axis_off()\n",
    "    axes[i].set_title(f'pattern completion, iter: {i}')\n",
    "f.tight_layout()\n",
    "# f.savefig('pc.png', dpi=100, bbox_inches='tight')"
   ]
  },
  {
   "cell_type": "code",
   "execution_count": null,
   "metadata": {},
   "outputs": [],
   "source": []
  }
 ],
 "metadata": {
  "kernelspec": {
   "display_name": "Python 3",
   "language": "python",
   "name": "python3"
  },
  "language_info": {
   "codemirror_mode": {
    "name": "ipython",
    "version": 3
   },
   "file_extension": ".py",
   "mimetype": "text/x-python",
   "name": "python",
   "nbconvert_exporter": "python",
   "pygments_lexer": "ipython3",
   "version": "3.6.1"
  }
 },
 "nbformat": 4,
 "nbformat_minor": 2
}
